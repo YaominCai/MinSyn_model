{
 "cells": [
  {
   "cell_type": "code",
   "execution_count": 2,
   "metadata": {},
   "outputs": [],
   "source": [
    "import random\n",
    "import matplotlib.pyplot as plt\n",
    "import seaborn as sns\n",
    "import numpy as np\n",
    "from scipy import stats\n",
    "import pandas as pd"
   ]
  },
  {
   "cell_type": "code",
   "execution_count": 4,
   "metadata": {},
   "outputs": [],
   "source": [
    "#load CREs seqeunce files\n",
    "motif = {}\n",
    "with open(\"motif_strength.txt\",\"r\") as mtf:\n",
    "    for line in mtf.readlines():\n",
    "        name = line.strip().split(\"\\t\")[0]\n",
    "        seq = line.strip().split(\"\\t\")[1]\n",
    "        if name not in motif:\n",
    "            motif[name] = {}\n",
    "        motif[name][\"sequence\"] = seq\n",
    "\n",
    "#check how many C-CREs\n",
    "def check_as1_number(sequence):\n",
    "    as_n = 0\n",
    "    as1_seq = ['CTGACGTAAGGGATGACGCACA','ATGACGTAAGCCATGACGTCTA','ATGAGCTAAGCACATACGTCAG'] #three C-CREs sequences\n",
    "    for as1 in as1_seq:\n",
    "        if as1 in sequence:\n",
    "            as_n += 1\n",
    "    return as_n"
   ]
  },
  {
   "cell_type": "code",
   "execution_count": 5,
   "metadata": {},
   "outputs": [],
   "source": [
    "#calculate C-CRE coverage\n",
    "def as1_cover(sequence):\n",
    "    as1_pos_left = 9999\n",
    "    as1_pos_right = 0\n",
    "    as1_seq = ['CTGACGTAAGGGATGACGCACA','ATGACGTAAGCCATGACGTCTA','ATGAGCTAAGCACATACGTCAG']\n",
    "    for as1 in as1_seq:\n",
    "        if as1 not in sequence:\n",
    "            continue\n",
    "        left, right = sequence.find(as1), sequence.find(as1)+len(as1)\n",
    "        if left < as1_pos_left:\n",
    "            as1_pos_left = left\n",
    "        if right > as1_pos_right:\n",
    "            as1_pos_right = right\n",
    "    return as1_pos_left, as1_pos_right"
   ]
  },
  {
   "cell_type": "code",
   "execution_count": 7,
   "metadata": {},
   "outputs": [
    {
     "name": "stderr",
     "output_type": "stream",
     "text": [
      "/Users/caiy/anaconda3/lib/python3.7/site-packages/seaborn/axisgrid.py:1848: UserWarning: JointGrid annotation is deprecated and will be removed in a future release.\n",
      "  warnings.warn(UserWarning(msg))\n"
     ]
    },
    {
     "data": {
      "image/png": "[encoded data removed]",
      "text/plain": [
       "<Figure size 432x432 with 3 Axes>"
      ]
     },
     "metadata": {
      "needs_background": "light"
     },
     "output_type": "display_data"
    }
   ],
   "source": [
    "#model body\n",
    "def model_score(promoter,motif):\n",
    "    as1 = ['CTGACGTAAGGGATGACGCACA','ATGACGTAAGCCATGACGTCTA','ATGAGCTAAGCACATACGTCAG'] #as1 motif sequences\n",
    "    as1_matrix = np.zeros(len(promoter),dtype = int) #initialise the promoter coverage array\n",
    "    #if C-CRE number <=1\n",
    "    if check_as1_number(promoter) <=1:\n",
    "        for a in as1:\n",
    "            if a in promoter and a != 'ATGAGCTAAGCACATACGTCAG': #for 35s and MMV as1\n",
    "                left = max(promoter.find(a),0) #define 5' borader\n",
    "                right = min(promoter.find(a)+len(a),len(promoter)-52) #define 3' boarder\n",
    "                dist = float(len(promoter)-promoter.find(a)-len(a)-52) #distance from 3' of motif to TATA box\n",
    "                dilute_factor = max(1-(dist/150)*0.5,0) #how much the motif decrease along the distance\n",
    "                if 50 >= dist:\n",
    "                        #compoase new array by adding as1 factor to effective position\n",
    "                    as1_matrix = np.array(list(as1_matrix[:left])+list(as1_matrix[left:right+1]+1)+list(as1_matrix[right+1:]))\n",
    "                else:\n",
    "                    as1_matrix = np.array(list(as1_matrix[:left])+list(as1_matrix[left:right+1]+1*dilute_factor)+list(as1_matrix[right+1:]))\n",
    "\n",
    "            if a in promoter and a == 'ATGAGCTAAGCACATACGTCAG':\n",
    "                left = max(promoter.find(a),0)\n",
    "                right = min(promoter.find(a)+len(a),len(promoter)-52)\n",
    "                dist = float(len(promoter)-promoter.find(a)-len(a)-52)\n",
    "                dilute_factor = max(1-(dist/150)*0.5,0)\n",
    "\n",
    "                if 150 > dist:\n",
    "                    as1_matrix = np.array(list(as1_matrix[:left])+list(as1_matrix[left:right+1]+1)+list(as1_matrix[right+1:]))\n",
    "                else:\n",
    "                    as1_matrix = np.array(list(as1_matrix[:left])+list(as1_matrix[left:right+1]+1*dilute_factor)+list(as1_matrix[right+1:]))\n",
    "        #other CREs\n",
    "        for m in motif:\n",
    "            if motif[m]['sequence'] in promoter:\n",
    "                left = max(promoter.find(motif[m]['sequence']),0)\n",
    "                right = min(promoter.find(motif[m]['sequence'])+len(motif[m]['sequence']),len(promoter)-52)\n",
    "                dist = float(len(promoter)-promoter.find(motif[m]['sequence'])-len(motif[m]['sequence'])-52)\n",
    "                dilute_factor = float(1-dist/(len(promoter)-52))\n",
    "                if dist <= 50:\n",
    "                    as1_matrix = np.array(list(as1_matrix[:left])+list(as1_matrix[left:right+1]+0.01)+list(as1_matrix[right+1:]))\n",
    "                else:\n",
    "                    as1_matrix = np.array(list(as1_matrix[:left])+list(as1_matrix[left:right+1]+dilute_factor*0.01)+list(as1_matrix[right+1:]))\n",
    "\n",
    "    #for more than 1 C-CREs\n",
    "    elif check_as1_number(promoter) >= 2:\n",
    "        lb, rb = as1_cover(promoter)\n",
    "        as1_matrix = np.array(list(as1_matrix[:lb])+list(as1_matrix[lb:rb+1]+1)+list(as1_matrix[rb+1:]))\n",
    "        #other CREs\n",
    "        for m in motif:\n",
    "            if motif[m]['sequence'] in promoter:\n",
    "                left = max(promoter.find(motif[m]['sequence']),0)\n",
    "                right = min(promoter.find(motif[m]['sequence'])+len(motif[m]['sequence']),len(promoter)-52)\n",
    "                dist = float(len(promoter)-promoter.find(motif[m]['sequence'])-len(motif[m]['sequence'])-52)\n",
    "                dilute_factor = max(1-dist/(len(promoter)-52),0)\n",
    "                if dist <= 50:\n",
    "                    as1_matrix = np.array(list(as1_matrix[:left])+list(as1_matrix[left:right+1]+0.01)+list(as1_matrix[right+1:]))\n",
    "                else:\n",
    "                    as1_matrix = np.array(list(as1_matrix[:left])+list(as1_matrix[left:right+1]+dilute_factor*0.01)+list(as1_matrix[right+1:]))\n",
    "\n",
    "    return as1_matrix.sum()/len(promoter)\n",
    "\n",
    "#calculate MinSyn scores\n",
    "with open('synp_model_sl.txt','r') as pro_file:\n",
    "    score_list = []\n",
    "    for line in pro_file:\n",
    "        name = line.strip().split(' ')[0]\n",
    "        seq = line.strip().split(' ')[1]\n",
    "        score = model_score(seq,motif)\n",
    "        with open('score.txt','a') as out:\n",
    "            out.write(str(name)+'\\t'+str(score)+'\\n')\n",
    "        score_list.append(score)\n",
    "\n",
    "#MinSyn measured activity      \n",
    "output = [0.000380277,0.0003664,0.000463613,0.003061495,0.097926868,0.095703161,0.104130757,0.022063565,0.151436392,0.039258539,0.027469717,0.000940529,0.002610243,0.003361042,0.000247863,0.083410599,0.000354593,0.089497055,0.09803389,0.026629575,6.36E-05,0.00087771,0.009258313,0.023198401]\n",
    "\n",
    "#plot\n",
    "def r2(x, y):\n",
    "    return stats.pearsonr(x, y)[0] ** 2\n",
    "#r2 = stats.pearsonr(score_list,output)[0]**2\n",
    "sns.jointplot(score_list, output, kind=\"reg\", stat_func=r2)\n",
    "plt.show()"
   ]
  },
  {
   "cell_type": "code",
   "execution_count": 8,
   "metadata": {},
   "outputs": [
    {
     "data": {
      "image/png": "[encoded data removed]",
      "text/plain": [
       "<Figure size 432x288 with 1 Axes>"
      ]
     },
     "metadata": {
      "needs_background": "light"
     },
     "output_type": "display_data"
    }
   ],
   "source": [
    "#plot simulated MinSyns against the score\n",
    "\n",
    "def rnd_gap(length):\n",
    "    rnd_seq = \"tcgcggtaggtcacgaccactatgcccaattaggttgtctgcacctcacatgtaggctatcagcttagcaagacctctacaaaactggtacttgtgtacagggctcactgctaggaggaccgatgctgatcttgcctgccttgatgatac\"\n",
    "    start = random.choice(range(0,len(rnd_seq) - length))\n",
    "    return rnd_seq[start:start+length]\n",
    "\n",
    "score_list = []\n",
    "for i in range(1000): \n",
    "    promoter = \"\"\n",
    "    m_list = []\n",
    "    key_list = list(motif.keys())\n",
    "    for m_number in range(1,random.randint(1,10)):\n",
    "        m = random.choice(key_list)\n",
    "        m_list.append(m)\n",
    "        promoter += motif[m][\"sequence\"].upper() + rnd_gap(random.randint(5,30)).lower()\n",
    "        key_list.remove(m)\n",
    "    promoter = \"ggaggcgtgtcgttttagtgagg\" + promoter + \"ctatataaggttttgctattcattgaaagcagtagtgactgatttgtatata\"\n",
    "    score = model_score(promoter,motif)\n",
    "    with open('output.txt','a') as f:\n",
    "        f.write('synP_'+str(i)+'\\t'+promoter+'\\t'+str(score)+'\\n')\n",
    "    score_list.append(score)\n",
    "ax = sns.distplot(score_list,hist = False,kde_kws={'lw':1.5,'color':'Grey'})\n",
    "ax.set_xlim(xmin=0)\n",
    "ax.set(xlabel='Predicted Score', ylabel='Counts')\n",
    "plt.savefig('predict_output.tiff',dpi = 300)\n",
    "plt.show()\n"
   ]
  }
 ],
 "metadata": {
  "kernelspec": {
   "display_name": "Python 3",
   "language": "python",
   "name": "python3"
  },
  "language_info": {
   "codemirror_mode": {
    "name": "ipython",
    "version": 3
   },
   "file_extension": ".py",
   "mimetype": "text/x-python",
   "name": "python",
   "nbconvert_exporter": "python",
   "pygments_lexer": "ipython3",
   "version": "3.7.6"
  }
 },
 "nbformat": 4,
 "nbformat_minor": 4
}
